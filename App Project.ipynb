{
 "cells": [
  {
   "cell_type": "code",
   "execution_count": 1,
   "metadata": {},
   "outputs": [],
   "source": [
    "import numpy as np\n",
    "import pandas as pd\n",
    "import matplotlib.pyplot as plt"
   ]
  },
  {
   "cell_type": "code",
   "execution_count": 3,
   "metadata": {},
   "outputs": [],
   "source": [
    "eda = pd.read_csv(\"/Users/grace//Downloads/Python_project_eda.csv\")\n",
    "expe = pd.read_csv(\"/Users/grace//Downloads/Python_project_experiment.csv\")"
   ]
  },
  {
   "cell_type": "code",
   "execution_count": 7,
   "metadata": {},
   "outputs": [
    {
     "data": {
      "text/html": [
       "<div>\n",
       "<style scoped>\n",
       "    .dataframe tbody tr th:only-of-type {\n",
       "        vertical-align: middle;\n",
       "    }\n",
       "\n",
       "    .dataframe tbody tr th {\n",
       "        vertical-align: top;\n",
       "    }\n",
       "\n",
       "    .dataframe thead th {\n",
       "        text-align: right;\n",
       "    }\n",
       "</style>\n",
       "<table border=\"1\" class=\"dataframe\">\n",
       "  <thead>\n",
       "    <tr style=\"text-align: right;\">\n",
       "      <th></th>\n",
       "      <th>buyer_week_before</th>\n",
       "      <th>clicked_buy_before</th>\n",
       "      <th>country</th>\n",
       "      <th>existing_buyer</th>\n",
       "      <th>initial_fop_set</th>\n",
       "      <th>made_purchase_before</th>\n",
       "      <th>saw_cart_before</th>\n",
       "      <th>spend_usd_next_14_days</th>\n",
       "      <th>user_added_credit_card</th>\n",
       "      <th>user_added_dcb</th>\n",
       "      <th>user_added_fop</th>\n",
       "      <th>user_added_gift_card</th>\n",
       "      <th>user_added_paypal</th>\n",
       "      <th>user_id</th>\n",
       "      <th>visit_before</th>\n",
       "    </tr>\n",
       "  </thead>\n",
       "  <tbody>\n",
       "    <tr>\n",
       "      <th>0</th>\n",
       "      <td>0</td>\n",
       "      <td>0.0</td>\n",
       "      <td>IN</td>\n",
       "      <td>0</td>\n",
       "      <td>False</td>\n",
       "      <td>0.0</td>\n",
       "      <td>1.0</td>\n",
       "      <td>NaN</td>\n",
       "      <td>NaN</td>\n",
       "      <td>NaN</td>\n",
       "      <td>0</td>\n",
       "      <td>NaN</td>\n",
       "      <td>NaN</td>\n",
       "      <td>18321316048201303366</td>\n",
       "      <td>1</td>\n",
       "    </tr>\n",
       "    <tr>\n",
       "      <th>1</th>\n",
       "      <td>0</td>\n",
       "      <td>0.0</td>\n",
       "      <td>IN</td>\n",
       "      <td>0</td>\n",
       "      <td>False</td>\n",
       "      <td>0.0</td>\n",
       "      <td>1.0</td>\n",
       "      <td>NaN</td>\n",
       "      <td>NaN</td>\n",
       "      <td>NaN</td>\n",
       "      <td>0</td>\n",
       "      <td>NaN</td>\n",
       "      <td>NaN</td>\n",
       "      <td>13705367724816913241</td>\n",
       "      <td>1</td>\n",
       "    </tr>\n",
       "    <tr>\n",
       "      <th>2</th>\n",
       "      <td>0</td>\n",
       "      <td>NaN</td>\n",
       "      <td>IN</td>\n",
       "      <td>0</td>\n",
       "      <td>False</td>\n",
       "      <td>NaN</td>\n",
       "      <td>NaN</td>\n",
       "      <td>NaN</td>\n",
       "      <td>NaN</td>\n",
       "      <td>NaN</td>\n",
       "      <td>0</td>\n",
       "      <td>NaN</td>\n",
       "      <td>NaN</td>\n",
       "      <td>6605724765451655114</td>\n",
       "      <td>0</td>\n",
       "    </tr>\n",
       "    <tr>\n",
       "      <th>3</th>\n",
       "      <td>0</td>\n",
       "      <td>1.0</td>\n",
       "      <td>CA</td>\n",
       "      <td>1</td>\n",
       "      <td>True</td>\n",
       "      <td>1.0</td>\n",
       "      <td>1.0</td>\n",
       "      <td>7.398815</td>\n",
       "      <td>1.0</td>\n",
       "      <td>0.0</td>\n",
       "      <td>1</td>\n",
       "      <td>0.0</td>\n",
       "      <td>0.0</td>\n",
       "      <td>2340067911948261502</td>\n",
       "      <td>1</td>\n",
       "    </tr>\n",
       "    <tr>\n",
       "      <th>4</th>\n",
       "      <td>7</td>\n",
       "      <td>1.0</td>\n",
       "      <td>PL</td>\n",
       "      <td>1</td>\n",
       "      <td>True</td>\n",
       "      <td>1.0</td>\n",
       "      <td>1.0</td>\n",
       "      <td>NaN</td>\n",
       "      <td>0.0</td>\n",
       "      <td>1.0</td>\n",
       "      <td>1</td>\n",
       "      <td>0.0</td>\n",
       "      <td>0.0</td>\n",
       "      <td>11891045596810635427</td>\n",
       "      <td>1</td>\n",
       "    </tr>\n",
       "  </tbody>\n",
       "</table>\n",
       "</div>"
      ],
      "text/plain": [
       "   buyer_week_before  clicked_buy_before country  existing_buyer  \\\n",
       "0                  0                 0.0      IN               0   \n",
       "1                  0                 0.0      IN               0   \n",
       "2                  0                 NaN      IN               0   \n",
       "3                  0                 1.0      CA               1   \n",
       "4                  7                 1.0      PL               1   \n",
       "\n",
       "   initial_fop_set  made_purchase_before  saw_cart_before  \\\n",
       "0            False                   0.0              1.0   \n",
       "1            False                   0.0              1.0   \n",
       "2            False                   NaN              NaN   \n",
       "3             True                   1.0              1.0   \n",
       "4             True                   1.0              1.0   \n",
       "\n",
       "   spend_usd_next_14_days  user_added_credit_card  user_added_dcb  \\\n",
       "0                     NaN                     NaN             NaN   \n",
       "1                     NaN                     NaN             NaN   \n",
       "2                     NaN                     NaN             NaN   \n",
       "3                7.398815                     1.0             0.0   \n",
       "4                     NaN                     0.0             1.0   \n",
       "\n",
       "   user_added_fop  user_added_gift_card  user_added_paypal  \\\n",
       "0               0                   NaN                NaN   \n",
       "1               0                   NaN                NaN   \n",
       "2               0                   NaN                NaN   \n",
       "3               1                   0.0                0.0   \n",
       "4               1                   0.0                0.0   \n",
       "\n",
       "                user_id  visit_before  \n",
       "0  18321316048201303366             1  \n",
       "1  13705367724816913241             1  \n",
       "2   6605724765451655114             0  \n",
       "3   2340067911948261502             1  \n",
       "4  11891045596810635427             1  "
      ]
     },
     "execution_count": 7,
     "metadata": {},
     "output_type": "execute_result"
    }
   ],
   "source": [
    "eda.head()"
   ]
  },
  {
   "cell_type": "code",
   "execution_count": 8,
   "metadata": {},
   "outputs": [
    {
     "data": {
      "text/html": [
       "<div>\n",
       "<style scoped>\n",
       "    .dataframe tbody tr th:only-of-type {\n",
       "        vertical-align: middle;\n",
       "    }\n",
       "\n",
       "    .dataframe tbody tr th {\n",
       "        vertical-align: top;\n",
       "    }\n",
       "\n",
       "    .dataframe thead th {\n",
       "        text-align: right;\n",
       "    }\n",
       "</style>\n",
       "<table border=\"1\" class=\"dataframe\">\n",
       "  <thead>\n",
       "    <tr style=\"text-align: right;\">\n",
       "      <th></th>\n",
       "      <th>country</th>\n",
       "      <th>date</th>\n",
       "      <th>experiment_id</th>\n",
       "      <th>order_id</th>\n",
       "      <th>spend_usd</th>\n",
       "      <th>user_bucket</th>\n",
       "      <th>user_id</th>\n",
       "      <th>vertical</th>\n",
       "    </tr>\n",
       "  </thead>\n",
       "  <tbody>\n",
       "    <tr>\n",
       "      <th>0</th>\n",
       "      <td>NaN</td>\n",
       "      <td>NaN</td>\n",
       "      <td>12624549</td>\n",
       "      <td></td>\n",
       "      <td>0.0</td>\n",
       "      <td>3</td>\n",
       "      <td>16554430871838092438</td>\n",
       "      <td>NaN</td>\n",
       "    </tr>\n",
       "    <tr>\n",
       "      <th>1</th>\n",
       "      <td>NaN</td>\n",
       "      <td>NaN</td>\n",
       "      <td>12624548</td>\n",
       "      <td></td>\n",
       "      <td>0.0</td>\n",
       "      <td>14</td>\n",
       "      <td>14411542309984779713</td>\n",
       "      <td>NaN</td>\n",
       "    </tr>\n",
       "    <tr>\n",
       "      <th>2</th>\n",
       "      <td>NaN</td>\n",
       "      <td>NaN</td>\n",
       "      <td>12624549</td>\n",
       "      <td></td>\n",
       "      <td>0.0</td>\n",
       "      <td>20</td>\n",
       "      <td>8425202140671508556</td>\n",
       "      <td>NaN</td>\n",
       "    </tr>\n",
       "    <tr>\n",
       "      <th>3</th>\n",
       "      <td>NaN</td>\n",
       "      <td>NaN</td>\n",
       "      <td>12624549</td>\n",
       "      <td></td>\n",
       "      <td>0.0</td>\n",
       "      <td>16</td>\n",
       "      <td>11302731652742770675</td>\n",
       "      <td>NaN</td>\n",
       "    </tr>\n",
       "    <tr>\n",
       "      <th>4</th>\n",
       "      <td>NaN</td>\n",
       "      <td>NaN</td>\n",
       "      <td>12624549</td>\n",
       "      <td></td>\n",
       "      <td>0.0</td>\n",
       "      <td>14</td>\n",
       "      <td>1399243101040681867</td>\n",
       "      <td>NaN</td>\n",
       "    </tr>\n",
       "  </tbody>\n",
       "</table>\n",
       "</div>"
      ],
      "text/plain": [
       "  country date  experiment_id order_id  spend_usd  user_bucket  \\\n",
       "0     NaN  NaN       12624549                 0.0            3   \n",
       "1     NaN  NaN       12624548                 0.0           14   \n",
       "2     NaN  NaN       12624549                 0.0           20   \n",
       "3     NaN  NaN       12624549                 0.0           16   \n",
       "4     NaN  NaN       12624549                 0.0           14   \n",
       "\n",
       "                user_id vertical  \n",
       "0  16554430871838092438      NaN  \n",
       "1  14411542309984779713      NaN  \n",
       "2   8425202140671508556      NaN  \n",
       "3  11302731652742770675      NaN  \n",
       "4   1399243101040681867      NaN  "
      ]
     },
     "execution_count": 8,
     "metadata": {},
     "output_type": "execute_result"
    }
   ],
   "source": [
    "expe.head()"
   ]
  },
  {
   "cell_type": "code",
   "execution_count": 9,
   "metadata": {},
   "outputs": [],
   "source": [
    "exp_id = 12624548\n",
    "con_id = 12624549"
   ]
  },
  {
   "cell_type": "code",
   "execution_count": 10,
   "metadata": {},
   "outputs": [
    {
     "data": {
      "text/html": [
       "<div>\n",
       "<style scoped>\n",
       "    .dataframe tbody tr th:only-of-type {\n",
       "        vertical-align: middle;\n",
       "    }\n",
       "\n",
       "    .dataframe tbody tr th {\n",
       "        vertical-align: top;\n",
       "    }\n",
       "\n",
       "    .dataframe thead th {\n",
       "        text-align: right;\n",
       "    }\n",
       "</style>\n",
       "<table border=\"1\" class=\"dataframe\">\n",
       "  <thead>\n",
       "    <tr style=\"text-align: right;\">\n",
       "      <th></th>\n",
       "      <th>date</th>\n",
       "      <th>spend_usd</th>\n",
       "    </tr>\n",
       "  </thead>\n",
       "  <tbody>\n",
       "    <tr>\n",
       "      <th>1</th>\n",
       "      <td>NaN</td>\n",
       "      <td>0.000000</td>\n",
       "    </tr>\n",
       "    <tr>\n",
       "      <th>6</th>\n",
       "      <td>NaN</td>\n",
       "      <td>0.000000</td>\n",
       "    </tr>\n",
       "    <tr>\n",
       "      <th>8</th>\n",
       "      <td>NaN</td>\n",
       "      <td>0.000000</td>\n",
       "    </tr>\n",
       "    <tr>\n",
       "      <th>11</th>\n",
       "      <td>NaN</td>\n",
       "      <td>0.000000</td>\n",
       "    </tr>\n",
       "    <tr>\n",
       "      <th>16</th>\n",
       "      <td>2017-04-02</td>\n",
       "      <td>0.975841</td>\n",
       "    </tr>\n",
       "  </tbody>\n",
       "</table>\n",
       "</div>"
      ],
      "text/plain": [
       "          date  spend_usd\n",
       "1          NaN   0.000000\n",
       "6          NaN   0.000000\n",
       "8          NaN   0.000000\n",
       "11         NaN   0.000000\n",
       "16  2017-04-02   0.975841"
      ]
     },
     "execution_count": 10,
     "metadata": {},
     "output_type": "execute_result"
    }
   ],
   "source": [
    "exp_table = expe[[\"date\", \"spend_usd\"]][(expe.experiment_id == exp_id)]\n",
    "exp_table.head()"
   ]
  },
  {
   "cell_type": "code",
   "execution_count": 11,
   "metadata": {},
   "outputs": [
    {
     "data": {
      "text/html": [
       "<div>\n",
       "<style scoped>\n",
       "    .dataframe tbody tr th:only-of-type {\n",
       "        vertical-align: middle;\n",
       "    }\n",
       "\n",
       "    .dataframe tbody tr th {\n",
       "        vertical-align: top;\n",
       "    }\n",
       "\n",
       "    .dataframe thead th {\n",
       "        text-align: right;\n",
       "    }\n",
       "</style>\n",
       "<table border=\"1\" class=\"dataframe\">\n",
       "  <thead>\n",
       "    <tr style=\"text-align: right;\">\n",
       "      <th></th>\n",
       "      <th>date</th>\n",
       "      <th>spend_usd</th>\n",
       "    </tr>\n",
       "  </thead>\n",
       "  <tbody>\n",
       "    <tr>\n",
       "      <th>0</th>\n",
       "      <td>NaN</td>\n",
       "      <td>0.0</td>\n",
       "    </tr>\n",
       "    <tr>\n",
       "      <th>2</th>\n",
       "      <td>NaN</td>\n",
       "      <td>0.0</td>\n",
       "    </tr>\n",
       "    <tr>\n",
       "      <th>3</th>\n",
       "      <td>NaN</td>\n",
       "      <td>0.0</td>\n",
       "    </tr>\n",
       "    <tr>\n",
       "      <th>4</th>\n",
       "      <td>NaN</td>\n",
       "      <td>0.0</td>\n",
       "    </tr>\n",
       "    <tr>\n",
       "      <th>5</th>\n",
       "      <td>NaN</td>\n",
       "      <td>0.0</td>\n",
       "    </tr>\n",
       "  </tbody>\n",
       "</table>\n",
       "</div>"
      ],
      "text/plain": [
       "  date  spend_usd\n",
       "0  NaN        0.0\n",
       "2  NaN        0.0\n",
       "3  NaN        0.0\n",
       "4  NaN        0.0\n",
       "5  NaN        0.0"
      ]
     },
     "execution_count": 11,
     "metadata": {},
     "output_type": "execute_result"
    }
   ],
   "source": [
    "con_table = expe[[\"date\", \"spend_usd\"]][(expe.experiment_id == con_id)]\n",
    "con_table.head()"
   ]
  },
  {
   "cell_type": "code",
   "execution_count": 16,
   "metadata": {},
   "outputs": [
    {
     "name": "stdout",
     "output_type": "stream",
     "text": [
      "3.1012323775663218\n",
      "2.807224857586508\n"
     ]
    }
   ],
   "source": [
    "exp_mean = exp_table[\"spend_usd\"].mean()\n",
    "print(exp_mean)\n",
    "con_mean = con_table[\"spend_usd\"].mean()\n",
    "print(con_mean)"
   ]
  },
  {
   "cell_type": "code",
   "execution_count": 15,
   "metadata": {},
   "outputs": [
    {
     "name": "stdout",
     "output_type": "stream",
     "text": [
      "135.66395205730018\n",
      "11.647486941709795\n"
     ]
    }
   ],
   "source": [
    "exp_var = exp_table[\"spend_usd\"].var()\n",
    "print(exp_var)\n",
    "exp_std = exp_table[\"spend_usd\"].std()\n",
    "print(exp_std)"
   ]
  },
  {
   "cell_type": "code",
   "execution_count": 17,
   "metadata": {},
   "outputs": [
    {
     "name": "stdout",
     "output_type": "stream",
     "text": [
      "120.43490904733572\n",
      "10.974283987911727\n"
     ]
    }
   ],
   "source": [
    "con_var = con_table[\"spend_usd\"].var()\n",
    "print(con_var)\n",
    "con_std = con_table[\"spend_usd\"].std()\n",
    "print(con_std)"
   ]
  },
  {
   "cell_type": "code",
   "execution_count": 18,
   "metadata": {},
   "outputs": [],
   "source": [
    "import math"
   ]
  },
  {
   "cell_type": "code",
   "execution_count": 19,
   "metadata": {},
   "outputs": [
    {
     "name": "stdout",
     "output_type": "stream",
     "text": [
      "24695 24471\n"
     ]
    }
   ],
   "source": [
    "n1 = len(exp_table)\n",
    "n2 = len(con_table)\n",
    "print(n1,n2)"
   ]
  },
  {
   "cell_type": "code",
   "execution_count": 20,
   "metadata": {},
   "outputs": [
    {
     "name": "stdout",
     "output_type": "stream",
     "text": [
      "11.317425664775403\n",
      "2.349814450494485\n",
      "49164\n"
     ]
    }
   ],
   "source": [
    "sp = math.sqrt(((n1-1)*(exp_std**2)+(n2-1)*(con_std**2))/(n1+n2-2))\n",
    "print(sp)\n",
    "t_stat = (exp_mean-con_mean)/(sp*math.sqrt(1/n1+2/n2))\n",
    "print(t_stat)\n",
    "df = n1+n2-2\n",
    "print(df)"
   ]
  },
  {
   "cell_type": "code",
   "execution_count": 164,
   "metadata": {},
   "outputs": [],
   "source": [
    "def PlotSeries(experiment_series, control_series):\n",
    "    fig, ax = plt.subplots()\n",
    "    ax.plot(experiment_series, color=\"green\", label=\"Group A\")\n",
    "    ax.plot(control_series, color=\"orange\", label=\"Group B\")\n",
    "    ax.set_title(\"Group A vs. Group B Cumulative Revenue\")\n",
    "    ax.set_ylabel(\"Total spend\")\n",
    "    ax.grid(True, which=\"both\")\n",
    "    ax.legend()\n",
    "    plt.gcf().autofmt_xdate()"
   ]
  },
  {
   "cell_type": "code",
   "execution_count": 165,
   "metadata": {},
   "outputs": [],
   "source": [
    "expseries = np.cumsum(exp_table.groupby('date')['spend_usd'].sum())\n",
    "conseries = np.cumsum(con_table.groupby('date')['spend_usd'].sum())"
   ]
  },
  {
   "cell_type": "code",
   "execution_count": 166,
   "metadata": {},
   "outputs": [
    {
     "data": {
      "image/png": "[encoded data removed]",
      "text/plain": [
       "<matplotlib.figure.Figure at 0x1178db0f0>"
      ]
     },
     "metadata": {},
     "output_type": "display_data"
    }
   ],
   "source": [
    "PlotSeries(expseries, conseries)"
   ]
  },
  {
   "cell_type": "code",
   "execution_count": 24,
   "metadata": {},
   "outputs": [
    {
     "name": "stdout",
     "output_type": "stream",
     "text": [
      "76584.93356399973 68695.59948999969 11.484482459678546\n"
     ]
    }
   ],
   "source": [
    "exprev = expseries[-1]\n",
    "conrev = conseries[-1]\n",
    "print(exprev, conrev, (exprev/conrev-1)*100)"
   ]
  },
  {
   "cell_type": "code",
   "execution_count": 25,
   "metadata": {},
   "outputs": [
    {
     "name": "stdout",
     "output_type": "stream",
     "text": [
      "3.1012323775663218 2.807224857586508 10.4732443924205\n"
     ]
    }
   ],
   "source": [
    "print(exp_mean, con_mean, (exp_mean/con_mean - 1)*100)"
   ]
  },
  {
   "cell_type": "code",
   "execution_count": 163,
   "metadata": {},
   "outputs": [
    {
     "name": "stdout",
     "output_type": "stream",
     "text": [
      "user_added_fop    170597\n",
      "dtype: int64\n",
      "user_added_fop    396102\n",
      "dtype: int64\n",
      "user_added_fop    69.896365\n",
      "dtype: float64\n"
     ]
    }
   ],
   "source": [
    "eda_fop = eda[[\"user_added_fop\"]][(eda.user_added_fop == 1)]\n",
    "print(eda_fop.count())\n",
    "non_fop = eda.user_added_fop.count()- eda_fop.count()\n",
    "print(non_fop)\n",
    "n = non_fop/(eda_fop.count() + non_fop)*100\n",
    "print(n)"
   ]
  },
  {
   "cell_type": "code",
   "execution_count": 158,
   "metadata": {},
   "outputs": [
    {
     "name": "stdout",
     "output_type": "stream",
     "text": [
      "125217 22.09585688346018\n",
      "37932 6.6935004296813645\n",
      "6877 1.2135189933280277\n",
      "570 0.10058249617521825\n"
     ]
    }
   ],
   "source": [
    "t = eda[[\"clicked_buy_before\",\"spend_usd_next_14_days\",\"user_added_credit_card\",\"user_added_dcb\",\"user_added_gift_card\",\"user_added_paypal\"]][(eda.user_added_fop == 1)]\n",
    "t['fop_count'] = t['user_added_credit_card'] + t['user_added_dcb'] + t['user_added_gift_card'] + t['user_added_paypal']\n",
    "\n",
    "t1 = t['fop_count'][(t.fop_count == 1)].count()\n",
    "t2 = t['fop_count'][(t.fop_count == 2)].count()\n",
    "t3 = t['fop_count'][(t.fop_count == 3)].count()\n",
    "t4 = t['fop_count'][(t.fop_count == 4)].count()\n",
    "\n",
    "print(t1, t1 / eda.user_added_fop.count() *100)\n",
    "print(t2, t2 / eda.user_added_fop.count() *100)\n",
    "print(t3, t3 / eda.user_added_fop.count() *100)\n",
    "print(t4, t4 / eda.user_added_fop.count() *100)"
   ]
  },
  {
   "cell_type": "code",
   "execution_count": 142,
   "metadata": {},
   "outputs": [
    {
     "data": {
      "text/plain": [
       "6037156.480382"
      ]
     },
     "execution_count": 142,
     "metadata": {},
     "output_type": "execute_result"
    }
   ],
   "source": [
    "rev_total = eda.spend_usd_next_14_days.sum()\n",
    "rev_total"
   ]
  },
  {
   "cell_type": "code",
   "execution_count": 149,
   "metadata": {},
   "outputs": [
    {
     "name": "stdout",
     "output_type": "stream",
     "text": [
      "42.447478996450506\n",
      "42.15545650342272\n",
      "13.243081690660624\n",
      "1.0016931362059631\n"
     ]
    }
   ],
   "source": [
    "rev_1 = t[\"spend_usd_next_14_days\"][(t.fop_count == 1)].sum()\n",
    "print(rev_1/rev_total*100)\n",
    "rev_2 = t[\"spend_usd_next_14_days\"][(t.fop_count == 2)].sum()\n",
    "print(rev_2/rev_total*100)\n",
    "rev_3 = t[\"spend_usd_next_14_days\"][(t.fop_count == 3)].sum()\n",
    "print(rev_3/rev_total*100)\n",
    "rev_4 = t[\"spend_usd_next_14_days\"][(t.fop_count == 4)].sum()\n",
    "print(rev_4/rev_total*100)"
   ]
  },
  {
   "cell_type": "code",
   "execution_count": 150,
   "metadata": {},
   "outputs": [
    {
     "data": {
      "text/plain": [
       "495640"
      ]
     },
     "execution_count": 150,
     "metadata": {},
     "output_type": "execute_result"
    }
   ],
   "source": [
    "click = eda.clicked_buy_before.count()\n",
    "click"
   ]
  },
  {
   "cell_type": "code",
   "execution_count": 156,
   "metadata": {},
   "outputs": [
    {
     "name": "stdout",
     "output_type": "stream",
     "text": [
      "23.516060043580016\n",
      "7.412234686465983\n",
      "1.366717779033169\n",
      "0.11480106528932289\n"
     ]
    }
   ],
   "source": [
    "click1 = t[\"clicked_buy_before\"][(t.fop_count == 1)].count()\n",
    "print(click1 / click * 100)\n",
    "click2 = t[\"clicked_buy_before\"][(t.fop_count == 2)].count()\n",
    "print(click2 / click * 100)\n",
    "click3 = t[\"clicked_buy_before\"][(t.fop_count == 3)].count()\n",
    "print(click3 / click * 100)\n",
    "click4 = t[\"clicked_buy_before\"][(t.fop_count == 4)].count()\n",
    "print(click4 / click * 100)"
   ]
  }
 ],
 "metadata": {
  "kernelspec": {
   "display_name": "Python 3",
   "language": "python",
   "name": "python3"
  },
  "language_info": {
   "codemirror_mode": {
    "name": "ipython",
    "version": 3
   },
   "file_extension": ".py",
   "mimetype": "text/x-python",
   "name": "python",
   "nbconvert_exporter": "python",
   "pygments_lexer": "ipython3",
   "version": "3.6.4"
  }
 },
 "nbformat": 4,
 "nbformat_minor": 2
}
